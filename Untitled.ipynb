{
 "cells": [
  {
   "cell_type": "code",
   "execution_count": 17,
   "metadata": {},
   "outputs": [
    {
     "name": "stdout",
     "output_type": "stream",
     "text": [
      "{3: 0, 2: 0}\n",
      "{3: 4, 2: 3}\n",
      "Поисковых запросов, содержащих 3 слов(а): 57.14%\n",
      "Поисковых запросов, содержащих 2 слов(а): 42.86%\n"
     ]
    }
   ],
   "source": [
    "queries = [ 'смотреть сериалы онлайн', 'новости спорта', 'афиша кино', 'курс доллара', 'сериалы этим летом', 'курс по питону', 'сериалы про спорт']\n",
    "\n",
    "item_all = len(queries)\n",
    "\n",
    "calc_words = {}\n",
    "\n",
    "for item in queries:\n",
    "    length = len(item.split(' '))\n",
    "    x = length\n",
    "    calc_words[x] = 0\n",
    "print(calc_words)\n",
    "\n",
    "for item in queries:\n",
    "    length = len(item.split(' '))\n",
    "    x = length\n",
    "    calc_words[x] += 1\n",
    "print(calc_words)\n",
    " \n",
    "for key, value in calc_words.items():\n",
    "    proc = value / item_all\n",
    "    print('Поисковых запросов, содержащих', key, 'слов(а): {:.2%}'.format(proc))\n",
    "    \n",
    "    #info['ROI'] = round((info['revenue'] / info['cost'] - 1) * 100, 2)\n",
    "    #sor = sorted(list(info.items()))\n",
    "    #info = dict(sor)\n",
    "    #print(info)\n",
    "#list_calc_words = list(calc_words)\n",
    "#print(list_calc_words)\n",
    "    \n",
    "\n",
    "#item_3 = 0\n",
    "#item_2 = 0\n",
    "\n",
    "#for item in queries:\n",
    " #   if len(item.split(' ')) == 3:\n",
    "  #      item_3 += 1\n",
    "   # if len(item.split(' ')) == 2:\n",
    "    #    item_2 += 1\n",
    "\n",
    "#item_3_proc = item_3 / item_all # * 100\n",
    "#item_2_proc = item_2 / item_all # * 100        \n",
    "\n",
    "#print('Поисковых запросов, содержащих 2 слов(а): {:.2%}'.format(item_2_proc))\n",
    "#print('Поисковых запросов, содержащих 3 слов(а): {:.2%}'.format(item_3_proc))\n",
    "    \n",
    "    #print(item, len(item), item.find('с'))\n",
    "\n",
    "#if len(item) == 3:\n",
    " #   item_3 = item_3 + 1\n",
    "  #  print(item_3)\n",
    "#print('Поисковых запросов, содержащих 2 слов(а): {:.1%}'.format(имя переменной))\n"
   ]
  }
 ],
 "metadata": {
  "kernelspec": {
   "display_name": "Python 3",
   "language": "python",
   "name": "python3"
  },
  "language_info": {
   "codemirror_mode": {
    "name": "ipython",
    "version": 3
   },
   "file_extension": ".py",
   "mimetype": "text/x-python",
   "name": "python",
   "nbconvert_exporter": "python",
   "pygments_lexer": "ipython3",
   "version": "3.8.3"
  }
 },
 "nbformat": 4,
 "nbformat_minor": 4
}
