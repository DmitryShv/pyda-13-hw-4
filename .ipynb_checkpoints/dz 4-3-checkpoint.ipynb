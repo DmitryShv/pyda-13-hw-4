{
 "cells": [
  {
   "cell_type": "markdown",
   "metadata": {},
   "source": [
    "## Задача 4.3 (к лекции «Управляющие конструкции и коллекции» часть 2)"
   ]
  },
  {
   "cell_type": "markdown",
   "metadata": {},
   "source": [
    "Дана переменная, в которой хранится информация о затратах и доходе рекламных кампаний по различным источникам. Необходимо дополнить исходную структуру показателем ROI, который рассчитаем по формуле: (revenue / cost - 1) * 100\n",
    "\n",
    "Пример работы программы:\n",
    "\n",
    "results = {\n",
    "‘vk’: {‘revenue’: 103, ‘cost’: 98},\n",
    "‘yandex’: {‘revenue’: 179, ‘cost’: 153},\n",
    "‘facebook’: {‘revenue’: 103, ‘cost’: 110},\n",
    "‘adwords’: {‘revenue’: 35, ‘cost’: 34},\n",
    "‘twitter’: {‘revenue’: 11, ‘cost’: 24},\n",
    "}\n",
    "\n",
    "Результат:\n",
    "\n",
    "{‘adwords’: {‘ROI’: 2.94, ‘cost’: 34, ‘revenue’: 35},\n",
    "\n",
    "‘facebook’: {‘ROI’: -6.36, ‘cost’: 110, ‘revenue’: 103},\n",
    "\n",
    "‘twitter’: {‘ROI’: -54.17, ‘cost’: 24, ‘revenue’: 11},\n",
    "\n",
    "‘vk’: {‘ROI’: 5.1, ‘cost’: 98, ‘revenue’: 103},\n",
    "\n",
    "‘yandex’: {‘ROI’: 16.99, ‘cost’: 153, ‘revenue’: 179}}"
   ]
  },
  {
   "cell_type": "code",
   "execution_count": 23,
   "metadata": {},
   "outputs": [
    {
     "name": "stdout",
     "output_type": "stream",
     "text": [
      "{'ROI': 5.1, 'cost': 98, 'revenue': 103}\n",
      "{'ROI': 16.99, 'cost': 153, 'revenue': 179}\n",
      "{'ROI': -6.36, 'cost': 110, 'revenue': 103}\n",
      "{'ROI': 2.94, 'cost': 34, 'revenue': 35}\n",
      "{'ROI': -54.17, 'cost': 24, 'revenue': 11}\n",
      "{'ROI': -54.17, 'cost': 24, 'revenue': 11}\n",
      "{'adwords': {'revenue': 35, 'cost': 34, 'ROI': 2.94}, 'facebook': {'revenue': 103, 'cost': 110, 'ROI': -6.36}, 'twitter': {'revenue': 11, 'cost': 24, 'ROI': -54.17}, 'vk': {'revenue': 103, 'cost': 98, 'ROI': 5.1}, 'yandex': {'revenue': 179, 'cost': 153, 'ROI': 16.99}}\n",
      "{'revenue': 103, 'cost': 98, 'ROI': 5.1}\n"
     ]
    }
   ],
   "source": [
    "results = { \n",
    "    'vk': {'revenue': 103, 'cost': 98}, \n",
    "    'yandex': {'revenue': 179, 'cost': 153}, \n",
    "    'facebook': {'revenue': 103, 'cost': 110}, \n",
    "    'adwords': {'revenue': 35, 'cost': 34}, \n",
    "    'twitter': {'revenue': 11, 'cost': 24}, \n",
    "}\n",
    "\n",
    "# не получается отсортировать вложенную библиотеку. Наверное, нужно ее пересобрать. Но, как это сделать - пока устал думать;)\n",
    "# отсортировать получилось через переведение в список и обратно, в библиотеку. Но, почему то результат не переносится в итоговый результат\n",
    "\n",
    "for key, info in results.items():\n",
    "    info['ROI'] = round((info['revenue'] / info['cost'] - 1) * 100, 2)\n",
    "    sor = sorted(list(info.items()))\n",
    "    info = dict(sor)\n",
    "    print(info)\n",
    "    \n",
    "print(info)\n",
    "res_list = sorted(list(results.items()))\n",
    "results = dict(res_list)\n",
    "#print(res_list)    \n",
    "print(results)\n",
    "print(results['vk'])\n",
    "        \n"
   ]
  }
 ],
 "metadata": {
  "kernelspec": {
   "display_name": "Python 3",
   "language": "python",
   "name": "python3"
  },
  "language_info": {
   "codemirror_mode": {
    "name": "ipython",
    "version": 3
   },
   "file_extension": ".py",
   "mimetype": "text/x-python",
   "name": "python",
   "nbconvert_exporter": "python",
   "pygments_lexer": "ipython3",
   "version": "3.8.3"
  }
 },
 "nbformat": 4,
 "nbformat_minor": 4
}
