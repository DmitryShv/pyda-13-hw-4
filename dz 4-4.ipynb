{
 "cells": [
  {
   "cell_type": "markdown",
   "metadata": {},
   "source": [
    "## Задача 4.4"
   ]
  },
  {
   "cell_type": "markdown",
   "metadata": {},
   "source": [
    "Дана переменная, в которой хранится статистика рекламных каналов по объемам продаж (пример структуры данных приведен ниже). Напишите программу, которая возвращает название канала с максимальным объемом продаж.\n",
    "\n",
    "Пример работы программы:\n",
    "\n",
    "stats = {‘facebook’: 55, ‘yandex’: 115, ‘vk’: 120, ‘google’: 99, ‘email’: 42, ‘ok’: 98}\n",
    "\n",
    "Результат: Максимальный объем продаж на рекламном канале: vk"
   ]
  },
  {
   "cell_type": "code",
   "execution_count": 1,
   "metadata": {},
   "outputs": [
    {
     "name": "stdout",
     "output_type": "stream",
     "text": [
      "Максимальный объем продаж на рекламном канале: vk\n",
      "Максимальный объем продаж на рекламном канале: vk\n"
     ]
    }
   ],
   "source": [
    "import operator\n",
    "stats = {'facebook': 55, 'yandex': 115, 'vk': 120, 'google': 99, 'email': 42, 'ok': 98}\n",
    "\n",
    "x = 0\n",
    "y = 0\n",
    "for k, v in stats.items():\n",
    "    x = v\n",
    "    if x > y:\n",
    "        y = x\n",
    "        \n",
    "for key, value in stats.items():\n",
    "    if value == y:\n",
    "        print('Максимальный объем продаж на рекламном канале:', key)\n",
    "\n",
    "\n",
    "print('Максимальный объем продаж на рекламном канале:', (max(stats.items(), key=operator.itemgetter(1))[0]))\n",
    "\n",
    "# решение с \"import operator\" и последней строкой взято с https://stackoverflow.com/questions/268272/getting-key-with-maximum-value-in-dictionary\n",
    "# но, я понял как списать, но не понял почему это работает :)"
   ]
  },
  {
   "cell_type": "markdown",
   "metadata": {},
   "source": [
    "Ниже мой черновой набросок размышлений. Если вы непротив, то я бы их оставлял для себя. А то все быстро забывается, если мало практики, а это поможет воспроизвести путь решения. Я надеюсь на это)))\n",
    "\n",
    "что надо сделать?\n",
    "\n",
    "это библиотека, где надо провести сравнение по значению и большее значение вывести.\n",
    "Как это можно сделать?\n",
    "\n",
    "Можно ли это сделать в самой библиотеке?\n",
    "\n",
    "Или надо перевести в другой тип, например: список или множество?\n",
    "\n",
    "такой вариант: 1. делаем перебор по значению и присваеваем его новой переменной. 2. сравниваем ее с ключом, если ключ больше - перезаписываем. Выводим ключ в принт\n",
    "\n",
    "Можно ли сравнивать ключ по значению? Вроде можно."
   ]
  }
 ],
 "metadata": {
  "kernelspec": {
   "display_name": "Python 3",
   "language": "python",
   "name": "python3"
  },
  "language_info": {
   "codemirror_mode": {
    "name": "ipython",
    "version": 3
   },
   "file_extension": ".py",
   "mimetype": "text/x-python",
   "name": "python",
   "nbconvert_exporter": "python",
   "pygments_lexer": "ipython3",
   "version": "3.8.3"
  }
 },
 "nbformat": 4,
 "nbformat_minor": 4
}
